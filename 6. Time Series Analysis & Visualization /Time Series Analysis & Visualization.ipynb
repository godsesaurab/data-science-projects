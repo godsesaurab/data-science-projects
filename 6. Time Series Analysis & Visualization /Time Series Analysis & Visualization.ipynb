{
  "cells": [
    {
      "cell_type": "markdown",
      "metadata": {
        "id": "view-in-github",
        "colab_type": "text"
      },
      "source": [
        "<a href=\"https://colab.research.google.com/github/godsesaurab/data-science-projects/blob/main/6.%20Time%20Series%20Analysis%20%26%20Visualization%20/Time%20Series%20Analysis%20%26%20Visualization.ipynb\" target=\"_parent\"><img src=\"https://colab.research.google.com/assets/colab-badge.svg\" alt=\"Open In Colab\"/></a>"
      ]
    },
    {
      "cell_type": "markdown",
      "source": [
        "# Time Series Analysis & Visualization"
      ],
      "metadata": {
        "id": "orPUFutLJIcG"
      },
      "id": "orPUFutLJIcG"
    },
    {
      "cell_type": "markdown",
      "source": [
        "**Time series data** consists of sequential data points recorded over time which is used in industries like finance, pharmaceuticals, social media and research. Analyzing and visualizing this data helps us to find trends and seasonal patterns for forecasting and decision-making."
      ],
      "metadata": {
        "id": "Wj5zY0wvKXov"
      },
      "id": "Wj5zY0wvKXov"
    },
    {
      "cell_type": "markdown",
      "source": [
        "## Time Series Data Analysis\n",
        "Time series data analysis involves studying data points collected in chronological time order to identify current trends, patterns and other behaviors. This helps extract actionable insights and supports accurate forecasting and decision-making."
      ],
      "metadata": {
        "id": "MmsONSIWK0Sv"
      },
      "id": "MmsONSIWK0Sv"
    },
    {
      "cell_type": "markdown",
      "source": [
        "## Key Concepts in Time Series Analysis\n",
        "\n",
        "* Trend: It represents the general direction in which a time series is moving over an extended period. It checks whether the values are increasing, decreasing or staying relatively constant.\n",
        "\n",
        "* Seasonality: Seasonality refers to repetitive patterns or cycles that occur at regular intervals within a time series corresponding to specific time units like days, weeks, months or seasons.\n",
        "\n",
        "* Moving average: It is used to smooth out short-term fluctuations and highlight longer-term trends or patterns in the data.\n",
        "\n",
        "* Noise: It represents the irregular and unpredictable components in a time series that do not follow a pattern.\n",
        "\n",
        "* Differencing: It is used to make the difference in values of a specified interval. By default it’s 1 but we can specify different values for plots.\n",
        "\n",
        "* Stationarity: A stationary time series is statistical properties such as mean, variance and autocorrelation remain constant over time.\n",
        "\n",
        "* Order: The order of differencing refers to the number of times the time series data needs to be differenced to achieve stationarity.\n",
        "\n",
        "* Autocorrelation: Autocorrelation is a statistical method used in time series analysis to quantify the degree of similarity between a time series and a lagged version of itself.\n",
        "\n",
        "* Resampling: Resampling is a technique in time series analysis that is used for changing the frequency of the data observations.\n",
        "\n",
        "\n",
        "\n",
        "\n",
        "\n",
        "\n",
        "\n",
        "\n"
      ],
      "metadata": {
        "id": "GH7Xo3QpK7r7"
      },
      "id": "GH7Xo3QpK7r7"
    },
    {
      "cell_type": "code",
      "execution_count": null,
      "id": "3c7a512b-b4fc-4d1c-9214-bdbe3748e8c3",
      "metadata": {
        "id": "3c7a512b-b4fc-4d1c-9214-bdbe3748e8c3"
      },
      "outputs": [],
      "source": []
    }
  ],
  "metadata": {
    "kernelspec": {
      "display_name": "Python 3 (ipykernel)",
      "language": "python",
      "name": "python3"
    },
    "language_info": {
      "codemirror_mode": {
        "name": "ipython",
        "version": 3
      },
      "file_extension": ".py",
      "mimetype": "text/x-python",
      "name": "python",
      "nbconvert_exporter": "python",
      "pygments_lexer": "ipython3",
      "version": "3.12.1"
    },
    "colab": {
      "provenance": [],
      "include_colab_link": true
    }
  },
  "nbformat": 4,
  "nbformat_minor": 5
}